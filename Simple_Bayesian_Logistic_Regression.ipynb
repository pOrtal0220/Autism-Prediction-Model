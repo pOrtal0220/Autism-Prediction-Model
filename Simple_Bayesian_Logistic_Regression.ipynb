{
  "cells": [
    {
      "cell_type": "markdown",
      "metadata": {
        "id": "view-in-github",
        "colab_type": "text"
      },
      "source": [
        "<a href=\"https://colab.research.google.com/github/pOrtal0220/Autism-Prediction-Model/blob/main/Simple_Bayesian_Logistic_Regression_py.ipynb\" target=\"_parent\"><img src=\"https://colab.research.google.com/assets/colab-badge.svg\" alt=\"Open In Colab\"/></a>"
      ]
    },
    {
      "cell_type": "code",
      "source": [
        "import pandas as pd\n",
        "from sklearn.model_selection import train_test_split\n",
        "from sklearn.linear_model import LogisticRegression\n",
        "from sklearn.metrics import accuracy_score, classification_report\n",
        "\n",
        "\n",
        "df = pd.read_csv('train.csv')\n",
        "\n",
        "columns_to_keep = [\n",
        "    'A1_Score', 'A2_Score', 'A3_Score', 'A4_Score', 'A5_Score',\n",
        "    'A6_Score', 'A7_Score', 'A8_Score', 'A9_Score', 'A10_Score',\n",
        "    'age', 'gender', 'jaundice', 'austim', 'result',\n",
        "    'Class/ASD'\n",
        "]\n",
        "\n",
        "\n",
        "df_simple = df[columns_to_keep].copy()\n",
        "\n",
        "df_simple.rename(columns={'austim': 'autism'}, inplace=True)\n",
        "\n",
        "df_simple.loc[:, 'jaundice'] = df_simple['jaundice'].apply(lambda x: 1 if x == 'yes' else 0)\n",
        "df_simple.loc[:, 'autism'] = df_simple['autism'].apply(lambda x: 1 if x == 'yes' else 0)\n",
        "df_simple.loc[:, 'gender'] = df_simple['gender'].apply(lambda x: 1 if x == 'm' else 0)\n",
        "\n",
        "df_simple.loc[:, 'age'] = pd.to_numeric(df_simple['age'], errors='coerce')\n",
        "df_simple.loc[:, 'age'] = df_simple['age'].fillna(df_simple['age'].mean())\n",
        "\n",
        "X = df_simple.drop('Class/ASD', axis=1)\n",
        "y = df_simple['Class/ASD']\n",
        "\n",
        "X_train, X_test, y_train, y_test = train_test_split(X, y, test_size=0.2, random_state=42)\n",
        "\n",
        "model = LogisticRegression(random_state=42, max_iter=1000)\n",
        "model.fit(X_train, y_train)\n",
        "print(\"Model training complete!\")\n",
        "print(\"-\" * 30)\n",
        "\n",
        "predictions = model.predict(X_test)\n",
        "\n",
        "accuracy = accuracy_score(y_test, predictions)\n",
        "print(f\"Accuracy: {accuracy * 100:.2f}%\")\n",
        "\n",
        "print(\"\\nClassification Report:\")\n",
        "print(classification_report(y_test, predictions))"
      ],
      "outputs": [
        {
          "output_type": "stream",
          "name": "stdout",
          "text": [
            "Step 2: Loading and cleaning the data...\n",
            "Data is ready for the model.\n",
            "------------------------------\n",
            "Step 4: Training the model...\n",
            "Model training complete!\n",
            "------------------------------\n",
            "Step 5: Evaluating the model...\n",
            "Accuracy: 86.88%\n",
            "\n",
            "Classification Report:\n",
            "              precision    recall  f1-score   support\n",
            "\n",
            "           0       0.91      0.93      0.92       124\n",
            "           1       0.73      0.67      0.70        36\n",
            "\n",
            "    accuracy                           0.87       160\n",
            "   macro avg       0.82      0.80      0.81       160\n",
            "weighted avg       0.87      0.87      0.87       160\n",
            "\n"
          ]
        }
      ],
      "execution_count": 6,
      "metadata": {
        "colab": {
          "base_uri": "https://localhost:8080/"
        },
        "id": "cmcNuhDyiNHJ",
        "outputId": "ee82f30f-d99b-40a8-acf9-762a9ec4cbe8"
      }
    }
  ],
  "metadata": {
    "colab": {
      "provenance": [],
      "include_colab_link": true
    },
    "kernelspec": {
      "display_name": "Python 3",
      "name": "python3"
    }
  },
  "nbformat": 4,
  "nbformat_minor": 0
}
